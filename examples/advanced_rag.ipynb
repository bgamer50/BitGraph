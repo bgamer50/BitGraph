{
 "cells": [
  {
   "cell_type": "code",
   "execution_count": null,
   "metadata": {},
   "outputs": [],
   "source": [
    "from transformers import AutoTokenizer, AutoModelForTokenClassification\n",
    "from transformers import pipeline\n",
    "\n",
    "def extract(entsList):\n",
    "    words = []\n",
    "    for ents in entsList:\n",
    "        row = []\n",
    "        for ent in ents:\n",
    "            row.append(ent['word'])\n",
    "        words.append(row)\n",
    "    return words\n",
    "\n",
    "tokenizer = AutoTokenizer.from_pretrained(\"dslim/bert-large-NER\")\n",
    "model = AutoModelForTokenClassification.from_pretrained(\"dslim/bert-large-NER\")\n",
    "\n",
    "ner = pipeline(\"ner\", model=model, tokenizer=tokenizer, device=0, aggregation_strategy=\"max\")\n",
    "\n",
    "ents = extract(ner(['What is the capital of Afghanistan?', 'Who directed Pulp Fiction?', 'What is the capital of France?', 'What English settlement was John Smith associated with?', 'Who were some key historical figures during the Victorian Era?', 'Who is the current president of the Teamsters union?', 'How do the populist platforms of Theodore Roosevelt and Andrew Jackson differ?', 'How were the 1950s in New York City different from the 1980s?', 'How large are the biggest species of tortoise?']))\n",
    "\n",
    "print('')\n",
    "print('Extracted Entity Words:')\n",
    "for ent in ents:\n",
    "    print(ent)"
   ]
  },
  {
   "cell_type": "code",
   "execution_count": null,
   "metadata": {},
   "outputs": [],
   "source": [
    "import pandas\n",
    "adf = pandas.read_parquet('/mnt/bitgraph/data/rag/articles.parquet')\n",
    "adf"
   ]
  },
  {
   "cell_type": "code",
   "execution_count": null,
   "metadata": {},
   "outputs": [],
   "source": [
    "import pandas\n",
    "edf = pandas.read_parquet('/mnt/bitgraph/data/rag/edgelist.parquet')\n",
    "edf"
   ]
  },
  {
   "cell_type": "code",
   "execution_count": null,
   "metadata": {},
   "outputs": [],
   "source": [
    "num_vertices = max(edf.src.max(), edf.dst.max(), len(adf))\n",
    "num_vertices"
   ]
  },
  {
   "cell_type": "code",
   "execution_count": 8,
   "metadata": {},
   "outputs": [],
   "source": [
    "import sys\n",
    "sys.path.append('/mnt/bitgraph')\n",
    "sys.path.append('/mnt/gremlin++')\n",
    "from pybitgraph import BitGraph\n",
    "\n",
    "graph = BitGraph('int64', 'int64', 'DEVICE', 'DEVICE', 'DEVICE')\n",
    "\n",
    "graph.add_vertices(num_vertices)\n",
    "graph.add_edges(\n",
    "    edf.src.values,\n",
    "    edf.dst.values,\n",
    "    'link',\n",
    ")"
   ]
  },
  {
   "cell_type": "code",
   "execution_count": null,
   "metadata": {},
   "outputs": [],
   "source": [
    "import numpy as np\n",
    "emb = np.load('/mnt/bitgraph/data/rag/emb.npy')\n",
    "emb.shape\n",
    "emb = np.concatenate([\n",
    "    emb,\n",
    "    np.zeros((num_vertices - emb.shape[0], emb.shape[1]), dtype=emb.dtype)\n",
    "])\n",
    "emb.shape"
   ]
  },
  {
   "cell_type": "code",
   "execution_count": 10,
   "metadata": {},
   "outputs": [],
   "source": [
    "graph.set_vertex_embeddings(\n",
    "    \"emb0\",\n",
    "    np.array([],dtype='int64'),\n",
    "    emb, \n",
    ")"
   ]
  },
  {
   "cell_type": "code",
   "execution_count": null,
   "metadata": {},
   "outputs": [],
   "source": [
    "import pandas\n",
    "qdf = pandas.read_json('/mnt/data/train.json')\n",
    "qdf"
   ]
  },
  {
   "cell_type": "code",
   "execution_count": null,
   "metadata": {},
   "outputs": [],
   "source": [
    "qdf.question[168]"
   ]
  },
  {
   "cell_type": "code",
   "execution_count": null,
   "metadata": {},
   "outputs": [],
   "source": [
    "g = graph.traversal()\n",
    "adf.title.iloc[g.V().like('emb0', [nlp('Margaret of Hungary').vector], .2).toArray()]"
   ]
  },
  {
   "cell_type": "code",
   "execution_count": null,
   "metadata": {},
   "outputs": [],
   "source": [
    "from pygremlinxx import GraphTraversal\n",
    "\n",
    "g = graph.traversal()\n",
    "__ = lambda : GraphTraversal()\n",
    "\n",
    "for question in qdf.question[1000:1003]:\n",
    "    ents = extract([ner(question)])[0]\n",
    "    print(ents)\n",
    "    \n",
    "    result = adf.title.iloc[g.V().like('emb0', [z.vector for z in nlp.pipe(ents)], 3)._as('s').out().limit(4).dedup()._as('t')._union([__().select('s'), __().select('t')]).dedup().toArray()]\n",
    "    print(\n",
    "        [r for r in result],\n",
    "        '\\n',\n",
    "        len(result),\n",
    "        '\\n'\n",
    "    )"
   ]
  },
  {
   "cell_type": "code",
   "execution_count": null,
   "metadata": {},
   "outputs": [],
   "source": [
    "g = graph.traversal()\n",
    "candidates = g.V().like('emb0', [nlp('Afghanistan').vector], 0.92).out().limit(10).toArray()\n",
    "adf.iloc[candidates]"
   ]
  },
  {
   "cell_type": "code",
   "execution_count": null,
   "metadata": {},
   "outputs": [],
   "source": [
    "adf.iloc[2347966].sentences"
   ]
  },
  {
   "cell_type": "code",
   "execution_count": null,
   "metadata": {},
   "outputs": [],
   "source": [
    "adf.title.iloc[\n",
    "    g.V().like('emb0', [nlp('Fix-up').vector], 10).toArray()\n",
    "]"
   ]
  },
  {
   "cell_type": "code",
   "execution_count": null,
   "metadata": {},
   "outputs": [],
   "source": [
    "from transformers import AutoModel, AutoTokenizer\n",
    "model = AutoModel.from_pretrained('sentence-transformers/all-roberta-large-v1')\n",
    "tokenizer = AutoTokenizer.from_pretrained('sentence-transformers/all-roberta-large-v1')\n",
    "\n"
   ]
  },
  {
   "cell_type": "code",
   "execution_count": 2,
   "metadata": {},
   "outputs": [],
   "source": [
    "import torch\n",
    "import torch.nn.functional as F\n",
    "class Sentence_Transformer(torch.nn.Module):\n",
    "\n",
    "    def __init__(self, bert_model):\n",
    "        super(Sentence_Transformer, self).__init__()\n",
    "        self.bert_model = bert_model\n",
    "\n",
    "    def mean_pooling(self, model_output, attention_mask):\n",
    "        token_embeddings = model_output[0]  # First element of model_output contains all token embeddings\n",
    "        data_type = token_embeddings.dtype\n",
    "        input_mask_expanded = attention_mask.unsqueeze(-1).expand(token_embeddings.size()).to(data_type)\n",
    "        return torch.sum(token_embeddings * input_mask_expanded, 1) / torch.clamp(input_mask_expanded.sum(1), min=1e-9)\n",
    "\n",
    "    def forward(self, input_ids, att_mask):\n",
    "        bert_out = self.bert_model(input_ids=input_ids, attention_mask=att_mask)\n",
    "        sentence_embeddings = self.mean_pooling(bert_out, att_mask)\n",
    "\n",
    "        sentence_embeddings = F.normalize(sentence_embeddings, p=2, dim=1)\n",
    "        return sentence_embeddings"
   ]
  },
  {
   "cell_type": "code",
   "execution_count": null,
   "metadata": {},
   "outputs": [],
   "source": [
    "module = Sentence_Transformer(model)\n",
    "module"
   ]
  },
  {
   "cell_type": "code",
   "execution_count": null,
   "metadata": {},
   "outputs": [],
   "source": [
    "t = tokenizer('How large are the biggest species of tortoise?', return_tensors='pt')\n",
    "a = module(t.input_ids, t.attention_mask)\n",
    "a"
   ]
  },
  {
   "cell_type": "code",
   "execution_count": null,
   "metadata": {},
   "outputs": [],
   "source": [
    "u = tokenizer('Sulcata tortoises are the largest continental species of tortoise.', return_tensors='pt')\n",
    "b = module(u.input_ids, u.attention_mask)\n",
    "b"
   ]
  },
  {
   "cell_type": "code",
   "execution_count": null,
   "metadata": {},
   "outputs": [],
   "source": [
    "v = tokenizer('tortoise', return_tensors='pt')\n",
    "c = module(v.input_ids, v.attention_mask)\n",
    "c"
   ]
  },
  {
   "cell_type": "code",
   "execution_count": null,
   "metadata": {},
   "outputs": [],
   "source": [
    "w = tokenizer('Barack Obama was once preident of the United States.', return_tensors='pt')\n",
    "d = module(w.input_ids, w.attention_mask)\n",
    "d"
   ]
  },
  {
   "cell_type": "code",
   "execution_count": null,
   "metadata": {},
   "outputs": [],
   "source": [
    "from scipy.spatial.distance import cosine\n",
    "\n",
    "1 - cosine(a.detach().numpy()[0],d.detach().numpy()[0])"
   ]
  },
  {
   "cell_type": "code",
   "execution_count": 1,
   "metadata": {},
   "outputs": [
    {
     "data": {
      "text/html": [
       "<div>\n",
       "<style scoped>\n",
       "    .dataframe tbody tr th:only-of-type {\n",
       "        vertical-align: middle;\n",
       "    }\n",
       "\n",
       "    .dataframe tbody tr th {\n",
       "        vertical-align: top;\n",
       "    }\n",
       "\n",
       "    .dataframe thead th {\n",
       "        text-align: right;\n",
       "    }\n",
       "</style>\n",
       "<table border=\"1\" class=\"dataframe\">\n",
       "  <thead>\n",
       "    <tr style=\"text-align: right;\">\n",
       "      <th></th>\n",
       "      <th>id</th>\n",
       "      <th>title</th>\n",
       "      <th>sentences</th>\n",
       "      <th>mentions</th>\n",
       "    </tr>\n",
       "  </thead>\n",
       "  <tbody>\n",
       "    <tr>\n",
       "      <th>0</th>\n",
       "      <td>17888798</td>\n",
       "      <td>The Circle (Wipers album)</td>\n",
       "      <td>[The Circle is the sixth studio album by punk ...</td>\n",
       "      <td>[{'id': 0, 'start': 40, 'end': 49, 'ref_url': ...</td>\n",
       "    </tr>\n",
       "    <tr>\n",
       "      <th>1</th>\n",
       "      <td>17888807</td>\n",
       "      <td>Urgand</td>\n",
       "      <td>[Urgand is a village in Badakhshan Province in...</td>\n",
       "      <td>[{'id': 0, 'start': 12, 'end': 19, 'ref_url': ...</td>\n",
       "    </tr>\n",
       "    <tr>\n",
       "      <th>2</th>\n",
       "      <td>17888822</td>\n",
       "      <td>Urup, Afghanistan</td>\n",
       "      <td>[Urup is a village in Badakhshan Province in n...</td>\n",
       "      <td>[{'id': 0, 'start': 10, 'end': 17, 'ref_url': ...</td>\n",
       "    </tr>\n",
       "    <tr>\n",
       "      <th>3</th>\n",
       "      <td>17888850</td>\n",
       "      <td>WMIA (AM)</td>\n",
       "      <td>[\"For the Miami, Florida radio station, see WM...</td>\n",
       "      <td>[{'id': 0, 'start': 9, 'end': 23, 'ref_url': '...</td>\n",
       "    </tr>\n",
       "    <tr>\n",
       "      <th>4</th>\n",
       "      <td>17888858</td>\n",
       "      <td>Guido of Acqui</td>\n",
       "      <td>[Saint Guido of Acqui( also Wido)( c. 1004 – 1...</td>\n",
       "      <td>[{'id': 0, 'start': 62, 'end': 77, 'ref_url': ...</td>\n",
       "    </tr>\n",
       "    <tr>\n",
       "      <th>...</th>\n",
       "      <td>...</td>\n",
       "      <td>...</td>\n",
       "      <td>...</td>\n",
       "      <td>...</td>\n",
       "    </tr>\n",
       "    <tr>\n",
       "      <th>5989842</th>\n",
       "      <td>12347579</td>\n",
       "      <td>Hebeclinium</td>\n",
       "      <td>[Hebeclinium is a genus of flowering plant in ...</td>\n",
       "      <td>[{'id': 0, 'start': 26, 'end': 41, 'ref_url': ...</td>\n",
       "    </tr>\n",
       "    <tr>\n",
       "      <th>5989843</th>\n",
       "      <td>12347585</td>\n",
       "      <td>Hebeclinium recreense</td>\n",
       "      <td>[Hebeclinium recreense is a species of floweri...</td>\n",
       "      <td>[{'id': 0, 'start': 38, 'end': 53, 'ref_url': ...</td>\n",
       "    </tr>\n",
       "    <tr>\n",
       "      <th>5989844</th>\n",
       "      <td>12347593</td>\n",
       "      <td>Helichrysum aciculare</td>\n",
       "      <td>[Helichrysum aciculare is a species of floweri...</td>\n",
       "      <td>[{'id': 0, 'start': 38, 'end': 53, 'ref_url': ...</td>\n",
       "    </tr>\n",
       "    <tr>\n",
       "      <th>5989845</th>\n",
       "      <td>12347598</td>\n",
       "      <td>Helichrysum arachnoides</td>\n",
       "      <td>[Helichrysum arachnoides is a species of flowe...</td>\n",
       "      <td>[{'id': 0, 'start': 40, 'end': 55, 'ref_url': ...</td>\n",
       "    </tr>\n",
       "    <tr>\n",
       "      <th>5989846</th>\n",
       "      <td>12347604</td>\n",
       "      <td>Helichrysum balfourii</td>\n",
       "      <td>[Helichrysum balfourii is a species of floweri...</td>\n",
       "      <td>[{'id': 0, 'start': 38, 'end': 53, 'ref_url': ...</td>\n",
       "    </tr>\n",
       "  </tbody>\n",
       "</table>\n",
       "<p>5989847 rows × 4 columns</p>\n",
       "</div>"
      ],
      "text/plain": [
       "               id                      title  \\\n",
       "0        17888798  The Circle (Wipers album)   \n",
       "1        17888807                     Urgand   \n",
       "2        17888822          Urup, Afghanistan   \n",
       "3        17888850                  WMIA (AM)   \n",
       "4        17888858             Guido of Acqui   \n",
       "...           ...                        ...   \n",
       "5989842  12347579                Hebeclinium   \n",
       "5989843  12347585      Hebeclinium recreense   \n",
       "5989844  12347593      Helichrysum aciculare   \n",
       "5989845  12347598    Helichrysum arachnoides   \n",
       "5989846  12347604      Helichrysum balfourii   \n",
       "\n",
       "                                                 sentences  \\\n",
       "0        [The Circle is the sixth studio album by punk ...   \n",
       "1        [Urgand is a village in Badakhshan Province in...   \n",
       "2        [Urup is a village in Badakhshan Province in n...   \n",
       "3        [\"For the Miami, Florida radio station, see WM...   \n",
       "4        [Saint Guido of Acqui( also Wido)( c. 1004 – 1...   \n",
       "...                                                    ...   \n",
       "5989842  [Hebeclinium is a genus of flowering plant in ...   \n",
       "5989843  [Hebeclinium recreense is a species of floweri...   \n",
       "5989844  [Helichrysum aciculare is a species of floweri...   \n",
       "5989845  [Helichrysum arachnoides is a species of flowe...   \n",
       "5989846  [Helichrysum balfourii is a species of floweri...   \n",
       "\n",
       "                                                  mentions  \n",
       "0        [{'id': 0, 'start': 40, 'end': 49, 'ref_url': ...  \n",
       "1        [{'id': 0, 'start': 12, 'end': 19, 'ref_url': ...  \n",
       "2        [{'id': 0, 'start': 10, 'end': 17, 'ref_url': ...  \n",
       "3        [{'id': 0, 'start': 9, 'end': 23, 'ref_url': '...  \n",
       "4        [{'id': 0, 'start': 62, 'end': 77, 'ref_url': ...  \n",
       "...                                                    ...  \n",
       "5989842  [{'id': 0, 'start': 26, 'end': 41, 'ref_url': ...  \n",
       "5989843  [{'id': 0, 'start': 38, 'end': 53, 'ref_url': ...  \n",
       "5989844  [{'id': 0, 'start': 38, 'end': 53, 'ref_url': ...  \n",
       "5989845  [{'id': 0, 'start': 40, 'end': 55, 'ref_url': ...  \n",
       "5989846  [{'id': 0, 'start': 38, 'end': 53, 'ref_url': ...  \n",
       "\n",
       "[5989847 rows x 4 columns]"
      ]
     },
     "execution_count": 1,
     "metadata": {},
     "output_type": "execute_result"
    }
   ],
   "source": [
    "import cudf\n",
    "df = cudf.read_json('/mnt/para_with_hyperlink.jsonl', lines=True)\n",
    "df"
   ]
  },
  {
   "cell_type": "code",
   "execution_count": 2,
   "metadata": {},
   "outputs": [
    {
     "data": {
      "text/plain": [
       "0          {'id': 0, 'start': 40, 'end': 49, 'ref_url': '...\n",
       "0          {'id': 1, 'start': 55, 'end': 61, 'ref_url': '...\n",
       "0          {'id': 2, 'start': 75, 'end': 83, 'ref_url': '...\n",
       "1          {'id': 0, 'start': 12, 'end': 19, 'ref_url': '...\n",
       "1          {'id': 1, 'start': 23, 'end': 42, 'ref_url': '...\n",
       "                                 ...                        \n",
       "5989846    {'id': 0, 'start': 38, 'end': 53, 'ref_url': '...\n",
       "5989846    {'id': 1, 'start': 68, 'end': 78, 'ref_url': '...\n",
       "5989846    {'id': 2, 'start': 20, 'end': 25, 'ref_url': '...\n",
       "5989846    {'id': 3, 'start': 12, 'end': 19, 'ref_url': '...\n",
       "5989846    {'id': 4, 'start': 51, 'end': 57, 'ref_url': '...\n",
       "Name: mentions, Length: 29530757, dtype: struct"
      ]
     },
     "execution_count": 2,
     "metadata": {},
     "output_type": "execute_result"
    }
   ],
   "source": [
    "mentions = df.mentions.explode()\n",
    "mentions = mentions[~mentions.struct.field('sent_idx').isna()]\n",
    "mentions = mentions[~mentions.struct.field('ref_ids').isna()]\n",
    "mentions"
   ]
  },
  {
   "cell_type": "code",
   "execution_count": 3,
   "metadata": {},
   "outputs": [
    {
     "data": {
      "text/html": [
       "<div>\n",
       "<style scoped>\n",
       "    .dataframe tbody tr th:only-of-type {\n",
       "        vertical-align: middle;\n",
       "    }\n",
       "\n",
       "    .dataframe tbody tr th {\n",
       "        vertical-align: top;\n",
       "    }\n",
       "\n",
       "    .dataframe thead th {\n",
       "        text-align: right;\n",
       "    }\n",
       "</style>\n",
       "<table border=\"1\" class=\"dataframe\">\n",
       "  <thead>\n",
       "    <tr style=\"text-align: right;\">\n",
       "      <th></th>\n",
       "      <th>id</th>\n",
       "      <th>title</th>\n",
       "      <th>sentences</th>\n",
       "      <th>mentions</th>\n",
       "      <th>sentence_offsets</th>\n",
       "    </tr>\n",
       "  </thead>\n",
       "  <tbody>\n",
       "    <tr>\n",
       "      <th>0</th>\n",
       "      <td>17888798</td>\n",
       "      <td>The Circle (Wipers album)</td>\n",
       "      <td>[The Circle is the sixth studio album by punk ...</td>\n",
       "      <td>[{'id': 0, 'start': 40, 'end': 49, 'ref_url': ...</td>\n",
       "      <td>0</td>\n",
       "    </tr>\n",
       "    <tr>\n",
       "      <th>1</th>\n",
       "      <td>17888807</td>\n",
       "      <td>Urgand</td>\n",
       "      <td>[Urgand is a village in Badakhshan Province in...</td>\n",
       "      <td>[{'id': 0, 'start': 12, 'end': 19, 'ref_url': ...</td>\n",
       "      <td>3</td>\n",
       "    </tr>\n",
       "    <tr>\n",
       "      <th>2</th>\n",
       "      <td>17888822</td>\n",
       "      <td>Urup, Afghanistan</td>\n",
       "      <td>[Urup is a village in Badakhshan Province in n...</td>\n",
       "      <td>[{'id': 0, 'start': 10, 'end': 17, 'ref_url': ...</td>\n",
       "      <td>4</td>\n",
       "    </tr>\n",
       "    <tr>\n",
       "      <th>3</th>\n",
       "      <td>17888850</td>\n",
       "      <td>WMIA (AM)</td>\n",
       "      <td>[\"For the Miami, Florida radio station, see WM...</td>\n",
       "      <td>[{'id': 0, 'start': 9, 'end': 23, 'ref_url': '...</td>\n",
       "      <td>5</td>\n",
       "    </tr>\n",
       "    <tr>\n",
       "      <th>4</th>\n",
       "      <td>17888858</td>\n",
       "      <td>Guido of Acqui</td>\n",
       "      <td>[Saint Guido of Acqui( also Wido)( c. 1004 – 1...</td>\n",
       "      <td>[{'id': 0, 'start': 62, 'end': 77, 'ref_url': ...</td>\n",
       "      <td>10</td>\n",
       "    </tr>\n",
       "    <tr>\n",
       "      <th>...</th>\n",
       "      <td>...</td>\n",
       "      <td>...</td>\n",
       "      <td>...</td>\n",
       "      <td>...</td>\n",
       "      <td>...</td>\n",
       "    </tr>\n",
       "    <tr>\n",
       "      <th>5989842</th>\n",
       "      <td>12347579</td>\n",
       "      <td>Hebeclinium</td>\n",
       "      <td>[Hebeclinium is a genus of flowering plant in ...</td>\n",
       "      <td>[{'id': 0, 'start': 26, 'end': 41, 'ref_url': ...</td>\n",
       "      <td>23245675</td>\n",
       "    </tr>\n",
       "    <tr>\n",
       "      <th>5989843</th>\n",
       "      <td>12347585</td>\n",
       "      <td>Hebeclinium recreense</td>\n",
       "      <td>[Hebeclinium recreense is a species of floweri...</td>\n",
       "      <td>[{'id': 0, 'start': 38, 'end': 53, 'ref_url': ...</td>\n",
       "      <td>23245676</td>\n",
       "    </tr>\n",
       "    <tr>\n",
       "      <th>5989844</th>\n",
       "      <td>12347593</td>\n",
       "      <td>Helichrysum aciculare</td>\n",
       "      <td>[Helichrysum aciculare is a species of floweri...</td>\n",
       "      <td>[{'id': 0, 'start': 38, 'end': 53, 'ref_url': ...</td>\n",
       "      <td>23245680</td>\n",
       "    </tr>\n",
       "    <tr>\n",
       "      <th>5989845</th>\n",
       "      <td>12347598</td>\n",
       "      <td>Helichrysum arachnoides</td>\n",
       "      <td>[Helichrysum arachnoides is a species of flowe...</td>\n",
       "      <td>[{'id': 0, 'start': 40, 'end': 55, 'ref_url': ...</td>\n",
       "      <td>23245683</td>\n",
       "    </tr>\n",
       "    <tr>\n",
       "      <th>5989846</th>\n",
       "      <td>12347604</td>\n",
       "      <td>Helichrysum balfourii</td>\n",
       "      <td>[Helichrysum balfourii is a species of floweri...</td>\n",
       "      <td>[{'id': 0, 'start': 38, 'end': 53, 'ref_url': ...</td>\n",
       "      <td>23245686</td>\n",
       "    </tr>\n",
       "  </tbody>\n",
       "</table>\n",
       "<p>5989847 rows × 5 columns</p>\n",
       "</div>"
      ],
      "text/plain": [
       "               id                      title  \\\n",
       "0        17888798  The Circle (Wipers album)   \n",
       "1        17888807                     Urgand   \n",
       "2        17888822          Urup, Afghanistan   \n",
       "3        17888850                  WMIA (AM)   \n",
       "4        17888858             Guido of Acqui   \n",
       "...           ...                        ...   \n",
       "5989842  12347579                Hebeclinium   \n",
       "5989843  12347585      Hebeclinium recreense   \n",
       "5989844  12347593      Helichrysum aciculare   \n",
       "5989845  12347598    Helichrysum arachnoides   \n",
       "5989846  12347604      Helichrysum balfourii   \n",
       "\n",
       "                                                 sentences  \\\n",
       "0        [The Circle is the sixth studio album by punk ...   \n",
       "1        [Urgand is a village in Badakhshan Province in...   \n",
       "2        [Urup is a village in Badakhshan Province in n...   \n",
       "3        [\"For the Miami, Florida radio station, see WM...   \n",
       "4        [Saint Guido of Acqui( also Wido)( c. 1004 – 1...   \n",
       "...                                                    ...   \n",
       "5989842  [Hebeclinium is a genus of flowering plant in ...   \n",
       "5989843  [Hebeclinium recreense is a species of floweri...   \n",
       "5989844  [Helichrysum aciculare is a species of floweri...   \n",
       "5989845  [Helichrysum arachnoides is a species of flowe...   \n",
       "5989846  [Helichrysum balfourii is a species of floweri...   \n",
       "\n",
       "                                                  mentions  sentence_offsets  \n",
       "0        [{'id': 0, 'start': 40, 'end': 49, 'ref_url': ...                 0  \n",
       "1        [{'id': 0, 'start': 12, 'end': 19, 'ref_url': ...                 3  \n",
       "2        [{'id': 0, 'start': 10, 'end': 17, 'ref_url': ...                 4  \n",
       "3        [{'id': 0, 'start': 9, 'end': 23, 'ref_url': '...                 5  \n",
       "4        [{'id': 0, 'start': 62, 'end': 77, 'ref_url': ...                10  \n",
       "...                                                    ...               ...  \n",
       "5989842  [{'id': 0, 'start': 26, 'end': 41, 'ref_url': ...          23245675  \n",
       "5989843  [{'id': 0, 'start': 38, 'end': 53, 'ref_url': ...          23245676  \n",
       "5989844  [{'id': 0, 'start': 38, 'end': 53, 'ref_url': ...          23245680  \n",
       "5989845  [{'id': 0, 'start': 40, 'end': 55, 'ref_url': ...          23245683  \n",
       "5989846  [{'id': 0, 'start': 38, 'end': 53, 'ref_url': ...          23245686  \n",
       "\n",
       "[5989847 rows x 5 columns]"
      ]
     },
     "execution_count": 3,
     "metadata": {},
     "output_type": "execute_result"
    }
   ],
   "source": [
    "import cupy\n",
    "df['sentence_offsets'] = cupy.concatenate([\n",
    "    cupy.array([0]),\n",
    "    df.sentences.list.len().cumsum().values[:-1]\n",
    "])\n",
    "df"
   ]
  },
  {
   "cell_type": "code",
   "execution_count": 4,
   "metadata": {},
   "outputs": [
    {
     "data": {
      "text/plain": [
       "(tensor([[ 5989847,  5989847,  5989847,  ..., 29235534, 29235535, 29235535],\n",
       "         [   23037,   939352,  1864203,  ...,   350939,  1596317,    11090]],\n",
       "        device='cuda:0'),\n",
       " torch.Size([2, 29530757]))"
      ]
     },
     "execution_count": 4,
     "metadata": {},
     "output_type": "execute_result"
    }
   ],
   "source": [
    "import torch\n",
    "destinations_m = mentions.struct.field('ref_ids').list.get(0).astype('int64').values\n",
    "sources_m = mentions.struct.field('sent_idx').values + df.sentence_offsets[mentions.index].values + len(df)\n",
    "eim = torch.stack([\n",
    "    torch.as_tensor(sources_m, device='cuda'),\n",
    "    torch.as_tensor(destinations_m, device='cuda'),\n",
    "])\n",
    "eim,eim.shape"
   ]
  },
  {
   "cell_type": "code",
   "execution_count": 5,
   "metadata": {},
   "outputs": [
    {
     "data": {
      "text/html": [
       "<div>\n",
       "<style scoped>\n",
       "    .dataframe tbody tr th:only-of-type {\n",
       "        vertical-align: middle;\n",
       "    }\n",
       "\n",
       "    .dataframe tbody tr th {\n",
       "        vertical-align: top;\n",
       "    }\n",
       "\n",
       "    .dataframe thead th {\n",
       "        text-align: right;\n",
       "    }\n",
       "</style>\n",
       "<table border=\"1\" class=\"dataframe\">\n",
       "  <thead>\n",
       "    <tr style=\"text-align: right;\">\n",
       "      <th></th>\n",
       "      <th>article</th>\n",
       "      <th>sentences</th>\n",
       "    </tr>\n",
       "  </thead>\n",
       "  <tbody>\n",
       "    <tr>\n",
       "      <th>0</th>\n",
       "      <td>0</td>\n",
       "      <td>The Circle is the sixth studio album by punk r...</td>\n",
       "    </tr>\n",
       "    <tr>\n",
       "      <th>1</th>\n",
       "      <td>0</td>\n",
       "      <td>The album received positive reviews.</td>\n",
       "    </tr>\n",
       "    <tr>\n",
       "      <th>2</th>\n",
       "      <td>0</td>\n",
       "      <td>\"The Rough Guide to Rock\" wrote that \"jazzy di...</td>\n",
       "    </tr>\n",
       "    <tr>\n",
       "      <th>3</th>\n",
       "      <td>1</td>\n",
       "      <td>Urgand is a village in Badakhshan Province in ...</td>\n",
       "    </tr>\n",
       "    <tr>\n",
       "      <th>4</th>\n",
       "      <td>2</td>\n",
       "      <td>Urup is a village in Badakhshan Province in no...</td>\n",
       "    </tr>\n",
       "    <tr>\n",
       "      <th>...</th>\n",
       "      <td>...</td>\n",
       "      <td>...</td>\n",
       "    </tr>\n",
       "    <tr>\n",
       "      <th>23333449</th>\n",
       "      <td>5989845</td>\n",
       "      <td>It is found only in Yemen.</td>\n",
       "    </tr>\n",
       "    <tr>\n",
       "      <th>23333450</th>\n",
       "      <td>5989845</td>\n",
       "      <td>Its natural habitat is subtropical or tropical...</td>\n",
       "    </tr>\n",
       "    <tr>\n",
       "      <th>23333451</th>\n",
       "      <td>5989846</td>\n",
       "      <td>Helichrysum balfourii is a species of flowerin...</td>\n",
       "    </tr>\n",
       "    <tr>\n",
       "      <th>23333452</th>\n",
       "      <td>5989846</td>\n",
       "      <td>It is found only in Yemen.</td>\n",
       "    </tr>\n",
       "    <tr>\n",
       "      <th>23333453</th>\n",
       "      <td>5989846</td>\n",
       "      <td>Its natural habitat is subtropical or tropical...</td>\n",
       "    </tr>\n",
       "  </tbody>\n",
       "</table>\n",
       "<p>23333454 rows × 2 columns</p>\n",
       "</div>"
      ],
      "text/plain": [
       "          article                                          sentences\n",
       "0               0  The Circle is the sixth studio album by punk r...\n",
       "1               0               The album received positive reviews.\n",
       "2               0  \"The Rough Guide to Rock\" wrote that \"jazzy di...\n",
       "3               1  Urgand is a village in Badakhshan Province in ...\n",
       "4               2  Urup is a village in Badakhshan Province in no...\n",
       "...           ...                                                ...\n",
       "23333449  5989845                         It is found only in Yemen.\n",
       "23333450  5989845  Its natural habitat is subtropical or tropical...\n",
       "23333451  5989846  Helichrysum balfourii is a species of flowerin...\n",
       "23333452  5989846                         It is found only in Yemen.\n",
       "23333453  5989846  Its natural habitat is subtropical or tropical...\n",
       "\n",
       "[23333454 rows x 2 columns]"
      ]
     },
     "execution_count": 5,
     "metadata": {},
     "output_type": "execute_result"
    }
   ],
   "source": [
    "sentences = df.sentences.explode().reset_index().rename({\"index\": 'article'},axis=1)\n",
    "sentences"
   ]
  },
  {
   "cell_type": "code",
   "execution_count": 6,
   "metadata": {},
   "outputs": [
    {
     "data": {
      "text/plain": [
       "(tensor([[ 5989847,  5989848,  5989849,  ..., 29323298, 29323299, 29323300],\n",
       "         [       0,        0,        0,  ...,  5989846,  5989846,  5989846]],\n",
       "        device='cuda:0'),\n",
       " torch.Size([2, 23333454]))"
      ]
     },
     "execution_count": 6,
     "metadata": {},
     "output_type": "execute_result"
    }
   ],
   "source": [
    "sources_s = sentences.index.values + len(df)\n",
    "destinations_s = sentences.article.values\n",
    "eis = torch.stack([\n",
    "    torch.as_tensor(sources_s, device='cuda'),\n",
    "    torch.as_tensor(destinations_s, device='cuda'),\n",
    "])\n",
    "eis,eis.shape"
   ]
  },
  {
   "cell_type": "code",
   "execution_count": 7,
   "metadata": {},
   "outputs": [
    {
     "data": {
      "text/plain": [
       "(tensor([[ 5989847,  5989847,  5989847,  ..., 29323298, 29323299, 29323300],\n",
       "         [   23037,   939352,  1864203,  ...,  5989846,  5989846,  5989846]],\n",
       "        device='cuda:0'),\n",
       " torch.Size([2, 52864211]))"
      ]
     },
     "execution_count": 7,
     "metadata": {},
     "output_type": "execute_result"
    }
   ],
   "source": [
    "eix = torch.concatenate([eim,eis],axis=1)\n",
    "eix,eix.shape"
   ]
  },
  {
   "cell_type": "code",
   "execution_count": 8,
   "metadata": {},
   "outputs": [
    {
     "data": {
      "text/plain": [
       "(tensor(29323300, device='cuda:0'), tensor(29235535, device='cuda:0'))"
      ]
     },
     "execution_count": 8,
     "metadata": {},
     "output_type": "execute_result"
    }
   ],
   "source": [
    "eis[0].max(), eim[0].max()"
   ]
  },
  {
   "cell_type": "code",
   "execution_count": 9,
   "metadata": {},
   "outputs": [
    {
     "data": {
      "text/plain": [
       "(tensor(5989847, device='cuda:0'), tensor(5989847, device='cuda:0'))"
      ]
     },
     "execution_count": 9,
     "metadata": {},
     "output_type": "execute_result"
    }
   ],
   "source": [
    "eis[0].min(), eim[0].min()"
   ]
  },
  {
   "cell_type": "code",
   "execution_count": 10,
   "metadata": {},
   "outputs": [],
   "source": [
    "assert eis[0].max() >= eim[0].max()"
   ]
  },
  {
   "cell_type": "code",
   "execution_count": 11,
   "metadata": {},
   "outputs": [
    {
     "data": {
      "text/plain": [
       "tensor(62717570, device='cuda:0')"
      ]
     },
     "execution_count": 11,
     "metadata": {},
     "output_type": "execute_result"
    }
   ],
   "source": [
    "# Total number of vertices, including those with no embedding\n",
    "eix.max()+1"
   ]
  },
  {
   "cell_type": "code",
   "execution_count": 12,
   "metadata": {},
   "outputs": [
    {
     "data": {
      "text/plain": [
       "29323301"
      ]
     },
     "execution_count": 12,
     "metadata": {},
     "output_type": "execute_result"
    }
   ],
   "source": [
    "# Number of vertices with embedding\n",
    "len(sentences) + len(df)"
   ]
  },
  {
   "cell_type": "code",
   "execution_count": 11,
   "metadata": {},
   "outputs": [],
   "source": [
    "import sys\n",
    "sys.path.append('/mnt/bitgraph')\n",
    "sys.path.append('/mnt/gremlin++')\n",
    "from pybitgraph import BitGraph"
   ]
  },
  {
   "cell_type": "code",
   "execution_count": 14,
   "metadata": {},
   "outputs": [],
   "source": [
    "import cupy\n",
    "\n",
    "graph = BitGraph(\n",
    "    \"int64\",\n",
    "    \"int64\",\n",
    "    \"DEVICE\",\n",
    "    \"DEVICE\",\n",
    "    \"PINNED\",\n",
    ")\n",
    "\n",
    "src, dst = eix\n",
    "graph.add_vertices(eix.max() + 1)\n",
    "graph.add_edges(src, dst, 'link')"
   ]
  },
  {
   "cell_type": "code",
   "execution_count": 13,
   "metadata": {},
   "outputs": [
    {
     "name": "stdout",
     "output_type": "stream",
     "text": [
      "part_0_0.pt 0\n",
      "part_0_1.pt 1\n",
      "part_0_2.pt 1000001\n",
      "part_0_3.pt 2000001\n",
      "part_1_0.pt 2994924\n",
      "part_1_1.pt 2994925\n",
      "part_1_2.pt 3994925\n",
      "part_1_3.pt 4994925\n",
      "part_0_0.pt 5989847\n",
      "part_0_1.pt 5989848\n",
      "part_0_2.pt 6989848\n",
      "part_0_3.pt 7989848\n",
      "part_0_4.pt 8989848\n",
      "part_0_5.pt 9989848\n",
      "part_0_6.pt 10989848\n",
      "part_0_7.pt 11989848\n",
      "part_0_8.pt 12989848\n",
      "part_0_9.pt 13989848\n",
      "part_0_10.pt 14989848\n",
      "part_0_11.pt 15989848\n",
      "part_0_12.pt 16989848\n",
      "part_1_0.pt 17786973\n",
      "part_1_1.pt 17786974\n",
      "part_1_2.pt 18786974\n",
      "part_1_3.pt 19786974\n",
      "part_1_4.pt 20786974\n",
      "part_1_5.pt 21786974\n",
      "part_1_6.pt 22786974\n",
      "part_1_7.pt 23786974\n",
      "part_1_8.pt 24786974\n",
      "part_1_9.pt 25786974\n",
      "part_1_10.pt 26786974\n",
      "part_1_11.pt 27786974\n",
      "part_1_12.pt 28786974\n"
     ]
    },
    {
     "data": {
      "text/plain": [
       "tensor([[-0.0005,  0.0742,  0.0331,  ...,  0.1338,  0.1362, -0.0740],\n",
       "        [ 0.0000,  0.0000,  0.0000,  ...,  0.0000,  0.0000,  0.0000],\n",
       "        [-0.0574,  0.0383,  0.0260,  ...,  0.0435,  0.4102,  0.0381],\n",
       "        ...,\n",
       "        [ 0.0639,  0.1371,  0.0456,  ...,  0.0092,  0.1628,  0.0573],\n",
       "        [-0.0064,  0.0178,  0.0919,  ...,  0.0089,  0.0992, -0.0496],\n",
       "        [ 0.0265,  0.0418, -0.0059,  ..., -0.0184,  0.2299,  0.0544]],\n",
       "       device='cuda:1')"
      ]
     },
     "execution_count": 13,
     "metadata": {},
     "output_type": "execute_result"
    }
   ],
   "source": [
    "import os\n",
    "import re\n",
    "\n",
    "import torch\n",
    "\n",
    "ex = re.compile(r'part_([0-9]+)\\_([0-9]+).pt')\n",
    "def fname_to_key(s):\n",
    "    m = ex.match(s)\n",
    "    return int(m[1]), int(m[2])\n",
    "\n",
    "directory = '/mnt/bitgraph/data/rag/n2v'\n",
    "\n",
    "emb = torch.empty((29323301, 300), dtype=torch.float32, device=1)\n",
    "ix = 0\n",
    "\n",
    "for emb_type in ['titles', 'sentences']:\n",
    "    path = os.path.join(directory, emb_type)\n",
    "    files = os.listdir(path)\n",
    "\n",
    "    files = sorted(files, key=fname_to_key)\n",
    "    for f in files:\n",
    "        e = torch.load(os.path.join(path, f), weights_only=True, map_location='cuda:1').reshape((-1, 300))\n",
    "        emb[ix : (ix + e.shape[0])] = e        \n",
    "        ix += e.shape[0]\n",
    "        del e\n",
    "    \n",
    "emb"
   ]
  },
  {
   "cell_type": "code",
   "execution_count": 10,
   "metadata": {},
   "outputs": [
    {
     "data": {
      "text/plain": [
       "tensor([ 3.9173e-02,  4.8354e-02,  1.2332e-01,  8.9205e-03, -4.6352e-02,\n",
       "         2.7588e-02, -2.6639e-02, -1.1987e-01,  6.3561e-02,  1.0618e-01,\n",
       "        -2.4808e-02, -9.3252e-02, -8.2684e-02, -1.0388e-02, -6.2595e-02,\n",
       "         4.3333e-02, -7.6571e-02,  9.2945e-02, -3.9889e-02, -1.7240e-02,\n",
       "        -8.0801e-02, -1.0599e-02,  1.5339e-02, -3.6979e-03,  5.4256e-02,\n",
       "        -1.2803e-01, -1.8577e-01,  1.0210e-01,  2.2244e-02, -6.2216e-02,\n",
       "         5.0269e-02, -5.6969e-02, -1.1328e-01,  8.0480e-02, -7.2021e-03,\n",
       "        -7.8710e-02, -7.9064e-03, -7.9090e-02,  6.3223e-02,  8.0111e-02,\n",
       "         4.7315e-02,  7.9599e-02, -7.1599e-03,  2.2402e-02,  1.6193e-02,\n",
       "        -3.7174e-02, -5.6641e-02, -1.2562e-02, -3.5851e-02, -3.4649e-02,\n",
       "         3.7208e-02, -1.6771e-02,  7.5308e-03, -9.9628e-02, -1.6771e-02,\n",
       "         3.4339e-02, -3.5053e-02,  8.3313e-03, -3.3724e-02, -4.3594e-02,\n",
       "        -2.2768e-02,  3.9600e-02, -5.7918e-02, -1.4754e-01, -3.5565e-02,\n",
       "        -1.2630e-02,  1.1738e-02,  2.8757e-02, -3.7792e-02,  4.7546e-02,\n",
       "         4.3945e-02, -1.3038e-02,  2.9907e-02,  1.0068e-02, -4.0890e-02,\n",
       "        -8.5388e-02,  3.7447e-02, -4.5060e-02, -1.8827e-02,  1.6695e-01,\n",
       "         7.5057e-02, -1.0390e-01, -6.2826e-02,  6.0378e-02, -7.2510e-02,\n",
       "        -7.5584e-02, -1.1334e-01,  8.5487e-02,  1.3146e-04,  3.6199e-03,\n",
       "        -1.9860e-02, -5.1845e-02, -8.4716e-02, -6.0753e-02,  1.7416e-02,\n",
       "        -1.6010e-02,  1.4359e-02, -7.6059e-02,  1.8724e-02,  2.5916e-03,\n",
       "         5.4613e-03, -7.3336e-02, -6.7918e-02,  7.1646e-02, -6.9162e-02,\n",
       "        -8.5581e-02, -2.5456e-02, -2.5870e-03, -3.1986e-02, -1.0166e-01,\n",
       "        -3.6983e-02, -3.2959e-03,  8.8285e-02, -3.0290e-02, -1.6864e-02,\n",
       "        -3.7623e-03,  3.7835e-02, -4.6950e-05,  5.0293e-02, -2.2151e-02,\n",
       "        -1.3533e-01,  1.8930e-02, -1.3696e-01,  9.9628e-03, -2.8307e-02,\n",
       "         4.0311e-02, -6.1216e-02, -7.2134e-02,  6.9486e-03, -2.8330e-02,\n",
       "        -1.3336e-02, -1.4315e-02, -3.1073e-02,  6.3204e-02, -2.9126e-02,\n",
       "         4.3776e-02, -9.2759e-02, -4.4593e-02, -2.8902e-02,  5.7098e-02,\n",
       "         4.3279e-02, -1.8799e-02,  5.3828e-02,  2.9703e-02,  5.2394e-02,\n",
       "        -2.7823e-02,  8.3782e-03,  1.5871e-02, -9.7998e-02,  1.5287e-02,\n",
       "         1.1773e-01,  4.8330e-02, -8.5679e-02,  2.4597e-02,  8.0242e-02,\n",
       "        -3.9739e-02, -1.0630e-02, -4.4828e-02,  2.7982e-02, -7.3058e-02,\n",
       "        -2.7076e-02,  8.8710e-02,  5.0233e-02, -1.9982e-02, -4.1067e-02,\n",
       "         4.5082e-02,  1.6620e-01, -6.3805e-03,  9.1647e-03,  6.9951e-02,\n",
       "        -9.3656e-02,  4.9011e-02,  2.9466e-02, -6.4613e-02,  3.9209e-02,\n",
       "        -2.5175e-02,  1.5064e-02, -5.4143e-02,  2.3163e-02, -5.0293e-02,\n",
       "        -1.8540e-01, -1.2289e-01, -6.4545e-02, -7.4763e-02, -4.2945e-02,\n",
       "         3.4194e-02, -8.4745e-04,  5.0485e-02,  1.2500e-01,  7.0937e-02,\n",
       "         3.3246e-02, -3.0719e-02,  2.8780e-03,  4.2516e-02, -7.8163e-02,\n",
       "         5.1307e-02, -6.4282e-02,  1.2990e-01, -1.8429e-03, -2.6968e-02,\n",
       "         1.2496e-01, -4.0030e-02, -4.5722e-02, -9.6713e-02,  1.1174e-03,\n",
       "         4.7643e-02,  3.3832e-02,  3.6791e-02,  2.9161e-02, -3.3583e-02,\n",
       "        -1.5700e-02, -2.1118e-02, -9.3759e-03,  3.6680e-02, -1.2677e-04,\n",
       "         1.1947e-01,  5.7279e-03,  2.4461e-02, -9.2905e-02,  1.6073e-02,\n",
       "         3.1089e-02,  8.0632e-02,  2.1597e-02, -3.3582e-02,  6.6331e-02,\n",
       "        -6.0096e-03,  1.3833e-01,  6.2904e-02, -2.2832e-02,  3.8992e-02,\n",
       "         6.7319e-02, -8.8708e-02,  3.6170e-02,  1.1224e-01,  4.6357e-02,\n",
       "        -1.6921e-02, -2.6945e-02, -1.6132e-02,  1.0017e-01, -8.5473e-03,\n",
       "         2.6905e-02, -1.2311e-01,  1.0773e-01, -6.4406e-02,  1.0740e-01,\n",
       "         4.1703e-02,  1.4832e-01,  6.5617e-02, -6.8275e-02,  4.1222e-02,\n",
       "         5.3840e-02, -2.7503e-02,  7.6247e-02,  1.5067e-01,  9.5464e-02,\n",
       "        -1.2018e-01,  5.8218e-03, -6.7183e-02, -7.0599e-02, -4.1776e-02,\n",
       "        -8.0862e-02, -5.2547e-02, -4.3617e-03,  8.8726e-02, -8.0021e-03,\n",
       "         1.1674e-01,  3.2513e-03, -7.5806e-02, -2.2799e-02,  1.8630e-02,\n",
       "        -7.1665e-02, -7.9299e-03, -1.8193e-03, -2.1578e-02,  3.5515e-02,\n",
       "        -1.1588e-01,  1.1461e-02, -1.8523e-01, -8.7161e-02, -7.9839e-02,\n",
       "         3.7260e-02, -2.6526e-02,  2.0531e-02,  3.7819e-02,  8.2721e-02,\n",
       "        -8.4284e-02, -9.8971e-02, -1.0169e-02, -5.8030e-03,  7.3829e-02,\n",
       "        -1.3539e-01,  1.9684e-02, -1.1351e-01,  4.5128e-02, -3.4767e-02,\n",
       "         3.2729e-02, -9.1252e-02,  4.9345e-03,  1.3776e-01, -7.3571e-03])"
      ]
     },
     "execution_count": 10,
     "metadata": {},
     "output_type": "execute_result"
    }
   ],
   "source": [
    "emb[1000002]"
   ]
  },
  {
   "cell_type": "code",
   "execution_count": null,
   "metadata": {},
   "outputs": [],
   "source": [
    "graph.set_vertex_embeddings(\n",
    "    \"emb\",\n",
    "    np.array([],dtype='int64'),\n",
    "    emb\n",
    ")"
   ]
  },
  {
   "cell_type": "code",
   "execution_count": 15,
   "metadata": {},
   "outputs": [],
   "source": [
    "g = graph.traversal()\n"
   ]
  },
  {
   "cell_type": "code",
   "execution_count": null,
   "metadata": {},
   "outputs": [],
   "source": []
  }
 ],
 "metadata": {
  "kernelspec": {
   "display_name": "Python 3",
   "language": "python",
   "name": "python3"
  },
  "language_info": {
   "codemirror_mode": {
    "name": "ipython",
    "version": 3
   },
   "file_extension": ".py",
   "mimetype": "text/x-python",
   "name": "python",
   "nbconvert_exporter": "python",
   "pygments_lexer": "ipython3",
   "version": "3.10.12"
  }
 },
 "nbformat": 4,
 "nbformat_minor": 2
}
