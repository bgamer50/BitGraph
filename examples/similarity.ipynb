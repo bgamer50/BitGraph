{
 "cells": [
  {
   "cell_type": "code",
   "execution_count": 1,
   "metadata": {},
   "outputs": [],
   "source": [
    "import sys\n",
    "sys.path.append('/mnt/bitgraph')\n",
    "sys.path.append('/mnt/gremlin++')\n",
    "from pybitgraph import BitGraph"
   ]
  },
  {
   "cell_type": "code",
   "execution_count": 2,
   "metadata": {},
   "outputs": [
    {
     "ename": "",
     "evalue": "",
     "output_type": "error",
     "traceback": [
      "\u001b[1;31mThe Kernel crashed while executing code in the current cell or a previous cell. \n",
      "\u001b[1;31mPlease review the code in the cell(s) to identify a possible cause of the failure. \n",
      "\u001b[1;31mClick <a href='https://aka.ms/vscodeJupyterKernelCrash'>here</a> for more info. \n",
      "\u001b[1;31mView Jupyter <a href='command:jupyter.viewOutput'>log</a> for further details."
     ]
    }
   ],
   "source": [
    "import numpy as np\n",
    "src = np.array([0, 1, 2, 3, 4, 5, 6])\n",
    "dst = np.array([5, 4, 3, 2, 1, 6, 0])\n",
    "emb = np.array([[1.1, 2.1], [2.2, 4.4], [3.3, 5.5], [4.4, 1.6], [5.5, 4.1], [6.6, 3.0], [-7.7, 9.9]], dtype='float32')\n",
    "\n",
    "graph = BitGraph(\n",
    "    \"int64\",\n",
    "    \"int64\",\n",
    "    \"DEVICE\",\n",
    "    \"PINNED\",\n",
    "    \"DEVICE\",\n",
    ")\n",
    "\n",
    "graph.add_vertices(7)\n",
    "graph.add_edges(src, dst, 'link')\n",
    "graph.set_vertex_embeddings('emb', np.array([],dtype='int64'), emb)\n",
    "g = graph.traversal()"
   ]
  },
  {
   "cell_type": "code",
   "execution_count": 8,
   "metadata": {},
   "outputs": [
    {
     "data": {
      "text/plain": [
       "array([1.        , 0.99982214, 0.99832392, 0.73879755, 0.90144628,\n",
       "       0.78897613, 0.41436031])"
      ]
     },
     "execution_count": 8,
     "metadata": {},
     "output_type": "execute_result"
    }
   ],
   "source": [
    "g.V().similarity('emb', [np.array([1.1, 2.1], dtype='float32')]).toArray()"
   ]
  },
  {
   "cell_type": "code",
   "execution_count": 9,
   "metadata": {},
   "outputs": [
    {
     "data": {
      "text/plain": [
       "array([0, 1, 2, 4], dtype=int64)"
      ]
     },
     "execution_count": 9,
     "metadata": {},
     "output_type": "execute_result"
    }
   ],
   "source": [
    "g.V().like('emb', [np.array([1.1, 2.1],dtype='float32')], 0.90).toArray()"
   ]
  },
  {
   "cell_type": "code",
   "execution_count": null,
   "metadata": {},
   "outputs": [],
   "source": []
  }
 ],
 "metadata": {
  "kernelspec": {
   "display_name": "Python 3",
   "language": "python",
   "name": "python3"
  },
  "language_info": {
   "codemirror_mode": {
    "name": "ipython",
    "version": 3
   },
   "file_extension": ".py",
   "mimetype": "text/x-python",
   "name": "python",
   "nbconvert_exporter": "python",
   "pygments_lexer": "ipython3",
   "version": "3.10.12"
  }
 },
 "nbformat": 4,
 "nbformat_minor": 2
}
