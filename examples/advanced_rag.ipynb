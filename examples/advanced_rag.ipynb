{
 "cells": [
  {
   "cell_type": "code",
   "execution_count": null,
   "metadata": {},
   "outputs": [],
   "source": [
    "!python3 -m spacy download en_core_web_lg"
   ]
  },
  {
   "cell_type": "code",
   "execution_count": 1,
   "metadata": {},
   "outputs": [
    {
     "name": "stderr",
     "output_type": "stream",
     "text": [
      "/usr/local/lib/python3.10/dist-packages/tqdm/auto.py:21: TqdmWarning: IProgress not found. Please update jupyter and ipywidgets. See https://ipywidgets.readthedocs.io/en/stable/user_install.html\n",
      "  from .autonotebook import tqdm as notebook_tqdm\n"
     ]
    }
   ],
   "source": [
    "import spacy\n",
    "nlp = spacy.load('en_core_web_lg')"
   ]
  },
  {
   "cell_type": "code",
   "execution_count": 3,
   "metadata": {},
   "outputs": [
    {
     "name": "stderr",
     "output_type": "stream",
     "text": [
      "You are using the default legacy behaviour of the <class 'transformers.models.llama.tokenization_llama.LlamaTokenizer'>. This is expected, and simply means that the `legacy` (previous) behavior will be used so nothing changes for you. If you want to use the new behaviour, set `legacy=False`. This should only be set if you understand what it means, and thoroughly read the reason why this was added as explained in https://github.com/huggingface/transformers/pull/24565 - if you loaded a llama tokenizer from a GGUF file you can ignore this message\n",
      "You are using the default legacy behaviour of the <class 'transformers.models.llama.tokenization_llama_fast.LlamaTokenizerFast'>. This is expected, and simply means that the `legacy` (previous) behavior will be used so nothing changes for you. If you want to use the new behaviour, set `legacy=False`. This should only be set if you understand what it means, and thoroughly read the reason why this was added as explained in https://github.com/huggingface/transformers/pull/24565 - if you loaded a llama tokenizer from a GGUF file you can ignore this message.\n",
      "Downloading shards: 100%|██████████| 3/3 [08:58<00:00, 179.41s/it]\n",
      "Loading checkpoint shards: 100%|██████████| 3/3 [00:00<00:00,  8.95it/s]\n"
     ]
    }
   ],
   "source": [
    "nlp.add_pipe(\n",
    "    'llm',\n",
    "    config={\n",
    "        \"model\": {\"@llm_models\": \"spacy.OpenLLaMA.v1\", \"name\": \"open_llama_13b\"},\n",
    "        \"task\": {\n",
    "            '@llm_tasks': 'spacy.NER.v3',\n",
    "            \"labels\": ['COUNTRY', 'CITY', 'WORK', 'PERSON', 'ORGANIZATION', 'ERA'],\n",
    "            \"description\": \"Entities are named persons, places, things, ideas, durations, or time periods that would be the title of a Wikipedia article.\",\n",
    "            \"label_definitions\": {\n",
    "                \"COUNTRY\": \"A country, territory, or region that has an ISO country code.\",\n",
    "                \"CITY\": \"An incorporated or unincorporated area or municipality.\",\n",
    "                \"WORK\": \"A work of art, such as a painting or sculpture, a play, novel, poem, photograph, document, movie or other motion picture.\",\n",
    "                \"PERSON\": \"A human being (e.g. Barack Obama, Taylor Swift, Plato)\",\n",
    "                \"ORGANIZATION\": \"A collective of people such as a corporation, interest group, board, or union.\",\n",
    "                \"ERA\": \"A colloquially recognized period of time with a rough start or end used for historical purposes (i.e. the Victorian Era).\",\n",
    "            },\n",
    "            \"examples\": {\n",
    "                \"@misc\": \"spacy.FewShotReader.v1\",\n",
    "                \"path\": \"/mnt/bitgraph/examples/ner_examples.json\"\n",
    "            }\n",
    "        },\n",
    "    }\n",
    ")\n",
    "import logging\n",
    "import spacy_llm\n",
    "spacy_llm.logger.addHandler(logging.StreamHandler())\n",
    "spacy_llm.logger.setLevel(logging.DEBUG)"
   ]
  },
  {
   "cell_type": "code",
   "execution_count": 4,
   "metadata": {},
   "outputs": [
    {
     "name": "stderr",
     "output_type": "stream",
     "text": [
      "Generated prompt for doc: What is the capital of Afghanistan?\n",
      "['You are an expert Named Entity Recognition (NER) system.\\nYour task is to accept Text as input and extract named entities.\\nEntities must have one of the following labels: CITY, COUNTRY, ERA, ORGANIZATION, PERSON, WORK.\\nIf a span is not an entity label it: `==NONE==`.\\n\\n\\nEntities are named persons, places, things, ideas, durations, or time periods that would be the title of a Wikipedia article.\\nBelow are definitions of each label to help aid you in what kinds of named entities to extract for each label.\\nAssume these definitions are written by an expert and follow them closely.\\nCOUNTRY: A country, territory, or region that has an ISO country code.\\nCITY: An incorporated or unincorporated area or municipality.\\nWORK: A work of art, such as a painting or sculpture, a play, novel, poem, photograph, document, movie or other motion picture.\\nPERSON: A human being (e.g. Barack Obama, Taylor Swift, Plato)\\nORGANIZATION: A collective of people such as a corporation, interest group, board, or union.\\nERA: A colloquially recognized period of time with a rough start or end used for historical purposes (i.e. the Victorian Era).\\n\\nQ: Given the paragraph below, identify a list of entities, and for each entry explain why it is or is not an entity:\\n\\nParagraph: Who were some key historical figures during the Victorian Era?\\nAnswer:\\n1. historical figures | False | ==NONE== | This term is too vague to be an entity.\\n2. Victorian Era | True | ERA | The Victorian Era is a historical period of time.\\n\\nParagraph: How do the populist platforms of Theodore Roosevelt and Andrew Jackson differ?\\nAnswer:\\n1. populist | True | PERSON | A populist is a term referring to a politicain who supports populist ideology.\\n2. Theodore Roosevelt | True | PERSON | Theodore Roosevelt was once president of the United States.\\n3. Andrew Jackson | True | PERSON | Andrew Jackson was once president of the United States.\\n\\nParagraph: How many years were there between the American Revolution and the signing of the Constitution\\nAnswer:\\n1. American Revolution | True | ERA | The American Revolution was a period in American history that began with the signing of the Declaration of Independence and ended with the surrender of the British at Yorktown.\\n2. Constitution | True | WORK | The Constitution of the United States is a legal document outlining the foundation of the United States government.\\n\\nParagraph: How were the 1950s in New York City different from the 1980s?\\nAnswer:\\n1. 1950s | True | ERA | The 1950s was a decade, which is a defined period of time.\\n2. New York City | True | CITY | New York City is a city in the state of New York in the United States.\\n3. 1980s | True | ERA | The 1980s was a decade, which is a defined period of time.\\n\\nParagraph: What are some examples of New Orleans cuisine?\\nAnswer:\\n1. examples | False | ==NONE== | The term example is too vague to be an entity.\\n2. New Orleans | True | CITY | New Orleans is a city in Louisiana.\\n\\nParagraph: What is the capital of Afghanistan?\\nAnswer:']\n",
      "LLM response for doc: What is the capital of Afghanistan?\n",
      "['\\n1. Afghanistan | True | COUNTRY | Afghanistan is a country in Asia.\\n2. capital | True | WORK | The capital of a country']\n",
      "Generated prompt for doc: Who directed Pulp Fiction?\n",
      "['You are an expert Named Entity Recognition (NER) system.\\nYour task is to accept Text as input and extract named entities.\\nEntities must have one of the following labels: CITY, COUNTRY, ERA, ORGANIZATION, PERSON, WORK.\\nIf a span is not an entity label it: `==NONE==`.\\n\\n\\nEntities are named persons, places, things, ideas, durations, or time periods that would be the title of a Wikipedia article.\\nBelow are definitions of each label to help aid you in what kinds of named entities to extract for each label.\\nAssume these definitions are written by an expert and follow them closely.\\nCOUNTRY: A country, territory, or region that has an ISO country code.\\nCITY: An incorporated or unincorporated area or municipality.\\nWORK: A work of art, such as a painting or sculpture, a play, novel, poem, photograph, document, movie or other motion picture.\\nPERSON: A human being (e.g. Barack Obama, Taylor Swift, Plato)\\nORGANIZATION: A collective of people such as a corporation, interest group, board, or union.\\nERA: A colloquially recognized period of time with a rough start or end used for historical purposes (i.e. the Victorian Era).\\n\\nQ: Given the paragraph below, identify a list of entities, and for each entry explain why it is or is not an entity:\\n\\nParagraph: Who were some key historical figures during the Victorian Era?\\nAnswer:\\n1. historical figures | False | ==NONE== | This term is too vague to be an entity.\\n2. Victorian Era | True | ERA | The Victorian Era is a historical period of time.\\n\\nParagraph: How do the populist platforms of Theodore Roosevelt and Andrew Jackson differ?\\nAnswer:\\n1. populist | True | PERSON | A populist is a term referring to a politicain who supports populist ideology.\\n2. Theodore Roosevelt | True | PERSON | Theodore Roosevelt was once president of the United States.\\n3. Andrew Jackson | True | PERSON | Andrew Jackson was once president of the United States.\\n\\nParagraph: How many years were there between the American Revolution and the signing of the Constitution\\nAnswer:\\n1. American Revolution | True | ERA | The American Revolution was a period in American history that began with the signing of the Declaration of Independence and ended with the surrender of the British at Yorktown.\\n2. Constitution | True | WORK | The Constitution of the United States is a legal document outlining the foundation of the United States government.\\n\\nParagraph: How were the 1950s in New York City different from the 1980s?\\nAnswer:\\n1. 1950s | True | ERA | The 1950s was a decade, which is a defined period of time.\\n2. New York City | True | CITY | New York City is a city in the state of New York in the United States.\\n3. 1980s | True | ERA | The 1980s was a decade, which is a defined period of time.\\n\\nParagraph: What are some examples of New Orleans cuisine?\\nAnswer:\\n1. examples | False | ==NONE== | The term example is too vague to be an entity.\\n2. New Orleans | True | CITY | New Orleans is a city in Louisiana.\\n\\nParagraph: Who directed Pulp Fiction?\\nAnswer:']\n",
      "LLM response for doc: Who directed Pulp Fiction?\n",
      "['\\n1. Pulp Fiction | True | WORK | Pulp Fiction is a movie.\\n2. Quentin Tarantino | True | PERSON']\n",
      "Generated prompt for doc: What is the capital of France?\n",
      "['You are an expert Named Entity Recognition (NER) system.\\nYour task is to accept Text as input and extract named entities.\\nEntities must have one of the following labels: CITY, COUNTRY, ERA, ORGANIZATION, PERSON, WORK.\\nIf a span is not an entity label it: `==NONE==`.\\n\\n\\nEntities are named persons, places, things, ideas, durations, or time periods that would be the title of a Wikipedia article.\\nBelow are definitions of each label to help aid you in what kinds of named entities to extract for each label.\\nAssume these definitions are written by an expert and follow them closely.\\nCOUNTRY: A country, territory, or region that has an ISO country code.\\nCITY: An incorporated or unincorporated area or municipality.\\nWORK: A work of art, such as a painting or sculpture, a play, novel, poem, photograph, document, movie or other motion picture.\\nPERSON: A human being (e.g. Barack Obama, Taylor Swift, Plato)\\nORGANIZATION: A collective of people such as a corporation, interest group, board, or union.\\nERA: A colloquially recognized period of time with a rough start or end used for historical purposes (i.e. the Victorian Era).\\n\\nQ: Given the paragraph below, identify a list of entities, and for each entry explain why it is or is not an entity:\\n\\nParagraph: Who were some key historical figures during the Victorian Era?\\nAnswer:\\n1. historical figures | False | ==NONE== | This term is too vague to be an entity.\\n2. Victorian Era | True | ERA | The Victorian Era is a historical period of time.\\n\\nParagraph: How do the populist platforms of Theodore Roosevelt and Andrew Jackson differ?\\nAnswer:\\n1. populist | True | PERSON | A populist is a term referring to a politicain who supports populist ideology.\\n2. Theodore Roosevelt | True | PERSON | Theodore Roosevelt was once president of the United States.\\n3. Andrew Jackson | True | PERSON | Andrew Jackson was once president of the United States.\\n\\nParagraph: How many years were there between the American Revolution and the signing of the Constitution\\nAnswer:\\n1. American Revolution | True | ERA | The American Revolution was a period in American history that began with the signing of the Declaration of Independence and ended with the surrender of the British at Yorktown.\\n2. Constitution | True | WORK | The Constitution of the United States is a legal document outlining the foundation of the United States government.\\n\\nParagraph: How were the 1950s in New York City different from the 1980s?\\nAnswer:\\n1. 1950s | True | ERA | The 1950s was a decade, which is a defined period of time.\\n2. New York City | True | CITY | New York City is a city in the state of New York in the United States.\\n3. 1980s | True | ERA | The 1980s was a decade, which is a defined period of time.\\n\\nParagraph: What are some examples of New Orleans cuisine?\\nAnswer:\\n1. examples | False | ==NONE== | The term example is too vague to be an entity.\\n2. New Orleans | True | CITY | New Orleans is a city in Louisiana.\\n\\nParagraph: What is the capital of France?\\nAnswer:']\n",
      "LLM response for doc: What is the capital of France?\n",
      "['\\n1. capital | True | CITY | The capital of France is Paris.\\n2. France | True | COUNTRY | France is a country in']\n",
      "Generated prompt for doc: What English settlement was John Smith associated with?\n",
      "['You are an expert Named Entity Recognition (NER) system.\\nYour task is to accept Text as input and extract named entities.\\nEntities must have one of the following labels: CITY, COUNTRY, ERA, ORGANIZATION, PERSON, WORK.\\nIf a span is not an entity label it: `==NONE==`.\\n\\n\\nEntities are named persons, places, things, ideas, durations, or time periods that would be the title of a Wikipedia article.\\nBelow are definitions of each label to help aid you in what kinds of named entities to extract for each label.\\nAssume these definitions are written by an expert and follow them closely.\\nCOUNTRY: A country, territory, or region that has an ISO country code.\\nCITY: An incorporated or unincorporated area or municipality.\\nWORK: A work of art, such as a painting or sculpture, a play, novel, poem, photograph, document, movie or other motion picture.\\nPERSON: A human being (e.g. Barack Obama, Taylor Swift, Plato)\\nORGANIZATION: A collective of people such as a corporation, interest group, board, or union.\\nERA: A colloquially recognized period of time with a rough start or end used for historical purposes (i.e. the Victorian Era).\\n\\nQ: Given the paragraph below, identify a list of entities, and for each entry explain why it is or is not an entity:\\n\\nParagraph: Who were some key historical figures during the Victorian Era?\\nAnswer:\\n1. historical figures | False | ==NONE== | This term is too vague to be an entity.\\n2. Victorian Era | True | ERA | The Victorian Era is a historical period of time.\\n\\nParagraph: How do the populist platforms of Theodore Roosevelt and Andrew Jackson differ?\\nAnswer:\\n1. populist | True | PERSON | A populist is a term referring to a politicain who supports populist ideology.\\n2. Theodore Roosevelt | True | PERSON | Theodore Roosevelt was once president of the United States.\\n3. Andrew Jackson | True | PERSON | Andrew Jackson was once president of the United States.\\n\\nParagraph: How many years were there between the American Revolution and the signing of the Constitution\\nAnswer:\\n1. American Revolution | True | ERA | The American Revolution was a period in American history that began with the signing of the Declaration of Independence and ended with the surrender of the British at Yorktown.\\n2. Constitution | True | WORK | The Constitution of the United States is a legal document outlining the foundation of the United States government.\\n\\nParagraph: How were the 1950s in New York City different from the 1980s?\\nAnswer:\\n1. 1950s | True | ERA | The 1950s was a decade, which is a defined period of time.\\n2. New York City | True | CITY | New York City is a city in the state of New York in the United States.\\n3. 1980s | True | ERA | The 1980s was a decade, which is a defined period of time.\\n\\nParagraph: What are some examples of New Orleans cuisine?\\nAnswer:\\n1. examples | False | ==NONE== | The term example is too vague to be an entity.\\n2. New Orleans | True | CITY | New Orleans is a city in Louisiana.\\n\\nParagraph: What English settlement was John Smith associated with?\\nAnswer:']\n",
      "LLM response for doc: What English settlement was John Smith associated with?\n",
      "['\\n1. English settlement | False | ==NONE== | The term English settlement is too vague to be an entity.\\n2. John Smith | True']\n",
      "Generated prompt for doc: Who were some key historical figures during the Victorian Era?\n",
      "['You are an expert Named Entity Recognition (NER) system.\\nYour task is to accept Text as input and extract named entities.\\nEntities must have one of the following labels: CITY, COUNTRY, ERA, ORGANIZATION, PERSON, WORK.\\nIf a span is not an entity label it: `==NONE==`.\\n\\n\\nEntities are named persons, places, things, ideas, durations, or time periods that would be the title of a Wikipedia article.\\nBelow are definitions of each label to help aid you in what kinds of named entities to extract for each label.\\nAssume these definitions are written by an expert and follow them closely.\\nCOUNTRY: A country, territory, or region that has an ISO country code.\\nCITY: An incorporated or unincorporated area or municipality.\\nWORK: A work of art, such as a painting or sculpture, a play, novel, poem, photograph, document, movie or other motion picture.\\nPERSON: A human being (e.g. Barack Obama, Taylor Swift, Plato)\\nORGANIZATION: A collective of people such as a corporation, interest group, board, or union.\\nERA: A colloquially recognized period of time with a rough start or end used for historical purposes (i.e. the Victorian Era).\\n\\nQ: Given the paragraph below, identify a list of entities, and for each entry explain why it is or is not an entity:\\n\\nParagraph: Who were some key historical figures during the Victorian Era?\\nAnswer:\\n1. historical figures | False | ==NONE== | This term is too vague to be an entity.\\n2. Victorian Era | True | ERA | The Victorian Era is a historical period of time.\\n\\nParagraph: How do the populist platforms of Theodore Roosevelt and Andrew Jackson differ?\\nAnswer:\\n1. populist | True | PERSON | A populist is a term referring to a politicain who supports populist ideology.\\n2. Theodore Roosevelt | True | PERSON | Theodore Roosevelt was once president of the United States.\\n3. Andrew Jackson | True | PERSON | Andrew Jackson was once president of the United States.\\n\\nParagraph: How many years were there between the American Revolution and the signing of the Constitution\\nAnswer:\\n1. American Revolution | True | ERA | The American Revolution was a period in American history that began with the signing of the Declaration of Independence and ended with the surrender of the British at Yorktown.\\n2. Constitution | True | WORK | The Constitution of the United States is a legal document outlining the foundation of the United States government.\\n\\nParagraph: How were the 1950s in New York City different from the 1980s?\\nAnswer:\\n1. 1950s | True | ERA | The 1950s was a decade, which is a defined period of time.\\n2. New York City | True | CITY | New York City is a city in the state of New York in the United States.\\n3. 1980s | True | ERA | The 1980s was a decade, which is a defined period of time.\\n\\nParagraph: What are some examples of New Orleans cuisine?\\nAnswer:\\n1. examples | False | ==NONE== | The term example is too vague to be an entity.\\n2. New Orleans | True | CITY | New Orleans is a city in Louisiana.\\n\\nParagraph: Who were some key historical figures during the Victorian Era?\\nAnswer:']\n",
      "LLM response for doc: Who were some key historical figures during the Victorian Era?\n",
      "['\\n1. historical figures | False | ==NONE== | The term historical figures is too vague to be an entity.\\n2. Victorian Era | True']\n",
      "Generated prompt for doc: Who is the current president of the Teamsters union?\n",
      "['You are an expert Named Entity Recognition (NER) system.\\nYour task is to accept Text as input and extract named entities.\\nEntities must have one of the following labels: CITY, COUNTRY, ERA, ORGANIZATION, PERSON, WORK.\\nIf a span is not an entity label it: `==NONE==`.\\n\\n\\nEntities are named persons, places, things, ideas, durations, or time periods that would be the title of a Wikipedia article.\\nBelow are definitions of each label to help aid you in what kinds of named entities to extract for each label.\\nAssume these definitions are written by an expert and follow them closely.\\nCOUNTRY: A country, territory, or region that has an ISO country code.\\nCITY: An incorporated or unincorporated area or municipality.\\nWORK: A work of art, such as a painting or sculpture, a play, novel, poem, photograph, document, movie or other motion picture.\\nPERSON: A human being (e.g. Barack Obama, Taylor Swift, Plato)\\nORGANIZATION: A collective of people such as a corporation, interest group, board, or union.\\nERA: A colloquially recognized period of time with a rough start or end used for historical purposes (i.e. the Victorian Era).\\n\\nQ: Given the paragraph below, identify a list of entities, and for each entry explain why it is or is not an entity:\\n\\nParagraph: Who were some key historical figures during the Victorian Era?\\nAnswer:\\n1. historical figures | False | ==NONE== | This term is too vague to be an entity.\\n2. Victorian Era | True | ERA | The Victorian Era is a historical period of time.\\n\\nParagraph: How do the populist platforms of Theodore Roosevelt and Andrew Jackson differ?\\nAnswer:\\n1. populist | True | PERSON | A populist is a term referring to a politicain who supports populist ideology.\\n2. Theodore Roosevelt | True | PERSON | Theodore Roosevelt was once president of the United States.\\n3. Andrew Jackson | True | PERSON | Andrew Jackson was once president of the United States.\\n\\nParagraph: How many years were there between the American Revolution and the signing of the Constitution\\nAnswer:\\n1. American Revolution | True | ERA | The American Revolution was a period in American history that began with the signing of the Declaration of Independence and ended with the surrender of the British at Yorktown.\\n2. Constitution | True | WORK | The Constitution of the United States is a legal document outlining the foundation of the United States government.\\n\\nParagraph: How were the 1950s in New York City different from the 1980s?\\nAnswer:\\n1. 1950s | True | ERA | The 1950s was a decade, which is a defined period of time.\\n2. New York City | True | CITY | New York City is a city in the state of New York in the United States.\\n3. 1980s | True | ERA | The 1980s was a decade, which is a defined period of time.\\n\\nParagraph: What are some examples of New Orleans cuisine?\\nAnswer:\\n1. examples | False | ==NONE== | The term example is too vague to be an entity.\\n2. New Orleans | True | CITY | New Orleans is a city in Louisiana.\\n\\nParagraph: Who is the current president of the Teamsters union?\\nAnswer:']\n",
      "LLM response for doc: Who is the current president of the Teamsters union?\n",
      "['\\n1. Teamsters | True | ORGANIZATION | The Teamsters union is an organization of truck drivers.\\n2. current president | False']\n",
      "Generated prompt for doc: How do the populist platforms of Theodore Roosevelt and Andrew Jackson differ?\n",
      "['You are an expert Named Entity Recognition (NER) system.\\nYour task is to accept Text as input and extract named entities.\\nEntities must have one of the following labels: CITY, COUNTRY, ERA, ORGANIZATION, PERSON, WORK.\\nIf a span is not an entity label it: `==NONE==`.\\n\\n\\nEntities are named persons, places, things, ideas, durations, or time periods that would be the title of a Wikipedia article.\\nBelow are definitions of each label to help aid you in what kinds of named entities to extract for each label.\\nAssume these definitions are written by an expert and follow them closely.\\nCOUNTRY: A country, territory, or region that has an ISO country code.\\nCITY: An incorporated or unincorporated area or municipality.\\nWORK: A work of art, such as a painting or sculpture, a play, novel, poem, photograph, document, movie or other motion picture.\\nPERSON: A human being (e.g. Barack Obama, Taylor Swift, Plato)\\nORGANIZATION: A collective of people such as a corporation, interest group, board, or union.\\nERA: A colloquially recognized period of time with a rough start or end used for historical purposes (i.e. the Victorian Era).\\n\\nQ: Given the paragraph below, identify a list of entities, and for each entry explain why it is or is not an entity:\\n\\nParagraph: Who were some key historical figures during the Victorian Era?\\nAnswer:\\n1. historical figures | False | ==NONE== | This term is too vague to be an entity.\\n2. Victorian Era | True | ERA | The Victorian Era is a historical period of time.\\n\\nParagraph: How do the populist platforms of Theodore Roosevelt and Andrew Jackson differ?\\nAnswer:\\n1. populist | True | PERSON | A populist is a term referring to a politicain who supports populist ideology.\\n2. Theodore Roosevelt | True | PERSON | Theodore Roosevelt was once president of the United States.\\n3. Andrew Jackson | True | PERSON | Andrew Jackson was once president of the United States.\\n\\nParagraph: How many years were there between the American Revolution and the signing of the Constitution\\nAnswer:\\n1. American Revolution | True | ERA | The American Revolution was a period in American history that began with the signing of the Declaration of Independence and ended with the surrender of the British at Yorktown.\\n2. Constitution | True | WORK | The Constitution of the United States is a legal document outlining the foundation of the United States government.\\n\\nParagraph: How were the 1950s in New York City different from the 1980s?\\nAnswer:\\n1. 1950s | True | ERA | The 1950s was a decade, which is a defined period of time.\\n2. New York City | True | CITY | New York City is a city in the state of New York in the United States.\\n3. 1980s | True | ERA | The 1980s was a decade, which is a defined period of time.\\n\\nParagraph: What are some examples of New Orleans cuisine?\\nAnswer:\\n1. examples | False | ==NONE== | The term example is too vague to be an entity.\\n2. New Orleans | True | CITY | New Orleans is a city in Louisiana.\\n\\nParagraph: How do the populist platforms of Theodore Roosevelt and Andrew Jackson differ?\\nAnswer:']\n",
      "LLM response for doc: How do the populist platforms of Theodore Roosevelt and Andrew Jackson differ?\n",
      "['\\n1. populist | True | PERSON | A populist is a term referring to a politicain who supports populist ideology.\\n2']\n",
      "Generated prompt for doc: How were the 1950s in New York City different from the 1980s?\n",
      "['You are an expert Named Entity Recognition (NER) system.\\nYour task is to accept Text as input and extract named entities.\\nEntities must have one of the following labels: CITY, COUNTRY, ERA, ORGANIZATION, PERSON, WORK.\\nIf a span is not an entity label it: `==NONE==`.\\n\\n\\nEntities are named persons, places, things, ideas, durations, or time periods that would be the title of a Wikipedia article.\\nBelow are definitions of each label to help aid you in what kinds of named entities to extract for each label.\\nAssume these definitions are written by an expert and follow them closely.\\nCOUNTRY: A country, territory, or region that has an ISO country code.\\nCITY: An incorporated or unincorporated area or municipality.\\nWORK: A work of art, such as a painting or sculpture, a play, novel, poem, photograph, document, movie or other motion picture.\\nPERSON: A human being (e.g. Barack Obama, Taylor Swift, Plato)\\nORGANIZATION: A collective of people such as a corporation, interest group, board, or union.\\nERA: A colloquially recognized period of time with a rough start or end used for historical purposes (i.e. the Victorian Era).\\n\\nQ: Given the paragraph below, identify a list of entities, and for each entry explain why it is or is not an entity:\\n\\nParagraph: Who were some key historical figures during the Victorian Era?\\nAnswer:\\n1. historical figures | False | ==NONE== | This term is too vague to be an entity.\\n2. Victorian Era | True | ERA | The Victorian Era is a historical period of time.\\n\\nParagraph: How do the populist platforms of Theodore Roosevelt and Andrew Jackson differ?\\nAnswer:\\n1. populist | True | PERSON | A populist is a term referring to a politicain who supports populist ideology.\\n2. Theodore Roosevelt | True | PERSON | Theodore Roosevelt was once president of the United States.\\n3. Andrew Jackson | True | PERSON | Andrew Jackson was once president of the United States.\\n\\nParagraph: How many years were there between the American Revolution and the signing of the Constitution\\nAnswer:\\n1. American Revolution | True | ERA | The American Revolution was a period in American history that began with the signing of the Declaration of Independence and ended with the surrender of the British at Yorktown.\\n2. Constitution | True | WORK | The Constitution of the United States is a legal document outlining the foundation of the United States government.\\n\\nParagraph: How were the 1950s in New York City different from the 1980s?\\nAnswer:\\n1. 1950s | True | ERA | The 1950s was a decade, which is a defined period of time.\\n2. New York City | True | CITY | New York City is a city in the state of New York in the United States.\\n3. 1980s | True | ERA | The 1980s was a decade, which is a defined period of time.\\n\\nParagraph: What are some examples of New Orleans cuisine?\\nAnswer:\\n1. examples | False | ==NONE== | The term example is too vague to be an entity.\\n2. New Orleans | True | CITY | New Orleans is a city in Louisiana.\\n\\nParagraph: How were the 1950s in New York City different from the 1980s?\\nAnswer:']\n",
      "LLM response for doc: How were the 1950s in New York City different from the 1980s?\n",
      "['\\n1. 1950s | True | ERA | The 1950s was a decade, which is a defined period of time']\n"
     ]
    },
    {
     "name": "stdout",
     "output_type": "stream",
     "text": [
      "Afghanistan, (300,); \n",
      "Pulp Fiction, (300,); \n",
      "capital, (300,); France, (300,); \n",
      "\n",
      "\n",
      "Teamsters, (300,); \n",
      "populist, (300,); \n",
      "1950s, (300,); \n"
     ]
    }
   ],
   "source": [
    "for doc in nlp.pipe(['What is the capital of Afghanistan?', 'Who directed Pulp Fiction?', 'What is the capital of France?', 'What English settlement was John Smith associated with?', 'Who were some key historical figures during the Victorian Era?', 'Who is the current president of the Teamsters union?', 'How do the populist platforms of Theodore Roosevelt and Andrew Jackson differ?', 'How were the 1950s in New York City different from the 1980s?']):   \n",
    "    s = \"\"\n",
    "    for ent in doc.ents:\n",
    "        s += f\"{ent}, {ent.vector.shape}; \"\n",
    "    print(s)"
   ]
  },
  {
   "cell_type": "code",
   "execution_count": null,
   "metadata": {},
   "outputs": [],
   "source": []
  }
 ],
 "metadata": {
  "kernelspec": {
   "display_name": "Python 3",
   "language": "python",
   "name": "python3"
  },
  "language_info": {
   "codemirror_mode": {
    "name": "ipython",
    "version": 3
   },
   "file_extension": ".py",
   "mimetype": "text/x-python",
   "name": "python",
   "nbconvert_exporter": "python",
   "pygments_lexer": "ipython3",
   "version": "3.10.12"
  }
 },
 "nbformat": 4,
 "nbformat_minor": 2
}
