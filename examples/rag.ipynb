{
 "cells": [
  {
   "cell_type": "code",
   "execution_count": null,
   "metadata": {},
   "outputs": [],
   "source": [
    "!python3 -m spacy download en_core_web_md"
   ]
  },
  {
   "cell_type": "code",
   "execution_count": null,
   "metadata": {},
   "outputs": [],
   "source": [
    "import sys\n",
    "sys.path.append('/mnt/bitgraph')\n",
    "sys.path.append('/mnt/gremlin++')\n",
    "from pybitgraph import BitGraph"
   ]
  },
  {
   "cell_type": "code",
   "execution_count": null,
   "metadata": {},
   "outputs": [],
   "source": [
    "import pandas\n",
    "df = pandas.read_parquet('/mnt/bitgraph/data/rag/articles.parquet')\n",
    "df"
   ]
  },
  {
   "cell_type": "code",
   "execution_count": null,
   "metadata": {},
   "outputs": [],
   "source": [
    "import spacy\n",
    "nlp = spacy.load('en_core_web_md')"
   ]
  },
  {
   "cell_type": "code",
   "execution_count": null,
   "metadata": {},
   "outputs": [],
   "source": [
    "t1 = nlp('brown fox')\n",
    "\n",
    "m = df.title.map(lambda x : nlp(x).vector)\n",
    "m"
   ]
  },
  {
   "cell_type": "code",
   "execution_count": null,
   "metadata": {},
   "outputs": [],
   "source": [
    "import numpy as np\n",
    "emb = np.array(m.values.tolist())\n",
    "emb"
   ]
  },
  {
   "cell_type": "code",
   "execution_count": null,
   "metadata": {},
   "outputs": [],
   "source": [
    "ner = nlp.add_pipe('ner')"
   ]
  },
  {
   "cell_type": "code",
   "execution_count": null,
   "metadata": {},
   "outputs": [],
   "source": [
    "df.title[:10]"
   ]
  },
  {
   "cell_type": "code",
   "execution_count": null,
   "metadata": {},
   "outputs": [],
   "source": [
    "nlp.pipe('ner')('What is the capital of Afghanistan?')"
   ]
  },
  {
   "cell_type": "code",
   "execution_count": null,
   "metadata": {},
   "outputs": [],
   "source": [
    "for doc in nlp.pipe(['What is the capital of Afghanistan?']):\n",
    "    print(doc.ents[0].vector.shape)"
   ]
  },
  {
   "cell_type": "code",
   "execution_count": null,
   "metadata": {},
   "outputs": [],
   "source": [
    "np.save('/mnt/bitgraph/data/rag/emb.npy', emb)"
   ]
  },
  {
   "cell_type": "code",
   "execution_count": null,
   "metadata": {},
   "outputs": [],
   "source": [
    "import numpy as np\n",
    "emb = np.load('/mnt/bitgraph/data/rag/emb.npy')"
   ]
  },
  {
   "cell_type": "code",
   "execution_count": null,
   "metadata": {},
   "outputs": [],
   "source": [
    "import cupy\n",
    "cupy_emb = cupy.array(emb)\n",
    "cupy_emb.shape"
   ]
  },
  {
   "cell_type": "code",
   "execution_count": null,
   "metadata": {},
   "outputs": [],
   "source": [
    "import cudf\n",
    "s = cudf.DataFrame(cupy_emb)\n",
    "s"
   ]
  },
  {
   "cell_type": "code",
   "execution_count": null,
   "metadata": {},
   "outputs": [],
   "source": [
    "from cuml.metrics.pairwise_distances import pairwise_distances\n",
    "v = cupy.array(nlp('Afghanistan').vector).reshape((1,300))\n",
    "\n",
    "matches = pairwise_distances(\n",
    "    s,\n",
    "    v\n",
    ").sort_values()[:10]\n",
    "matches"
   ]
  },
  {
   "cell_type": "code",
   "execution_count": null,
   "metadata": {},
   "outputs": [],
   "source": [
    "import pandas\n",
    "adf = pandas.read_parquet('/mnt/bitgraph/data/rag/articles.parquet')\n",
    "edf = pandas.read_parquet('/mnt/bitgraph/data/rag/edgelist.parquet')"
   ]
  },
  {
   "cell_type": "code",
   "execution_count": null,
   "metadata": {},
   "outputs": [],
   "source": [
    "adf.iloc[matches.index.to_numpy()]"
   ]
  },
  {
   "cell_type": "code",
   "execution_count": null,
   "metadata": {},
   "outputs": [],
   "source": [
    "vertex_ids = adf.iloc[matches.index.to_numpy()].new_id.tolist()\n",
    "vertex_ids"
   ]
  },
  {
   "cell_type": "code",
   "execution_count": null,
   "metadata": {},
   "outputs": [],
   "source": [
    "#vertex_ids = [213280, 30617, 91, 103081, 151051]\n",
    "vertex_ids = [213280, 30617, 91, 103081, 151051, 4586093, 1098, 5844157, 4107202, 5291135]"
   ]
  },
  {
   "cell_type": "code",
   "execution_count": null,
   "metadata": {},
   "outputs": [],
   "source": [
    "num_vertices = max(edf.src.max(), edf.dst.max(), len(adf))\n",
    "num_vertices"
   ]
  },
  {
   "cell_type": "code",
   "execution_count": null,
   "metadata": {},
   "outputs": [],
   "source": [
    "from pybitgraph import BitGraph\n",
    "\n",
    "graph = BitGraph(\n",
    "    \"int64\",\n",
    "    \"int64\",\n",
    "    \"DEVICE\",\n",
    "    \"MANAGED\",\n",
    "    \"MANAGED\",\n",
    ")\n",
    "\n",
    "graph.add_vertices(num_vertices)\n",
    "graph.add_edges(\n",
    "    edf.src.values,\n",
    "    edf.dst.values,\n",
    "    'link'\n",
    ")\n",
    "\n",
    "g = graph.traversal()"
   ]
  },
  {
   "cell_type": "code",
   "execution_count": null,
   "metadata": {},
   "outputs": [],
   "source": [
    "from pygremlinxx import GraphTraversal\n",
    "__ = lambda : GraphTraversal()\n",
    "\n",
    "from time import perf_counter\n",
    "\n",
    "for _ in range(11):\n",
    "    start_time = perf_counter()\n",
    "    additional_docs = g.V(vertex_ids).emit(__().identity()).repeat(__().out().dedup().order().by(__().out().count()).limit(10)).times(2).dedup().order().by(__().out().count()).toArray()\n",
    "    end_time = perf_counter()\n",
    "    print(end_time - start_time)\n",
    "additional_docs"
   ]
  },
  {
   "cell_type": "code",
   "execution_count": null,
   "metadata": {},
   "outputs": [],
   "source": [
    "from pygremlinxx import TraversalStrategy\n",
    "from pygremlinxx import GraphTraversal\n",
    "__ = lambda : GraphTraversal()\n",
    "\n",
    "from time import perf_counter\n",
    "\n",
    "h = graph.traversal().withoutStrategy(BitGraph.BitGraphSelectionStrategy).withoutStrategy(TraversalStrategy.BasicPatternExtractionStrategy).withoutStrategy(TraversalStrategy.RepeatUnrollStrategy).withoutStrategy(TraversalStrategy.HasJoinStrategy)\n",
    "\n",
    "for _ in range(11):\n",
    "    start_time = perf_counter()\n",
    "    additional_docs = h.V(vertex_ids).emit(__().identity()).repeat(__().out().dedup().order().by(__().out().count()).limit(10)).times(2).dedup().order().by(__().out().count()).toArray()\n",
    "    end_time = perf_counter()\n",
    "    print(end_time - start_time)\n",
    "additional_docs"
   ]
  },
  {
   "cell_type": "code",
   "execution_count": null,
   "metadata": {},
   "outputs": [],
   "source": [
    "edf"
   ]
  },
  {
   "cell_type": "code",
   "execution_count": null,
   "metadata": {},
   "outputs": [],
   "source": [
    "from pygremlinxx import GraphTraversal\n",
    "__ = lambda : GraphTraversal()\n",
    "print(g.V([1,2,3]).emit(__().identity()).repeat(__().out().dedup().order().by(__().out().count()).limit(10)).times(2).dedup().order().by(__().out().count()).explain())"
   ]
  },
  {
   "cell_type": "code",
   "execution_count": null,
   "metadata": {},
   "outputs": [],
   "source": []
  }
 ],
 "metadata": {
  "kernelspec": {
   "display_name": "Python 3",
   "language": "python",
   "name": "python3"
  },
  "language_info": {
   "codemirror_mode": {
    "name": "ipython",
    "version": 3
   },
   "file_extension": ".py",
   "mimetype": "text/x-python",
   "name": "python",
   "nbconvert_exporter": "python",
   "pygments_lexer": "ipython3",
   "version": "3.10.12"
  }
 },
 "nbformat": 4,
 "nbformat_minor": 2
}
